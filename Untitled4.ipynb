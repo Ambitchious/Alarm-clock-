{
  "nbformat": 4,
  "nbformat_minor": 0,
  "metadata": {
    "colab": {
      "provenance": [],
      "authorship_tag": "ABX9TyO7+BLk3goVS7tCU14khytn",
      "include_colab_link": true
    },
    "kernelspec": {
      "name": "python3",
      "display_name": "Python 3"
    },
    "language_info": {
      "name": "python"
    }
  },
  "cells": [
    {
      "cell_type": "markdown",
      "metadata": {
        "id": "view-in-github",
        "colab_type": "text"
      },
      "source": [
        "<a href=\"https://colab.research.google.com/github/Ambitchious/Alarm-clock-/blob/main/Untitled4.ipynb\" target=\"_parent\"><img src=\"https://colab.research.google.com/assets/colab-badge.svg\" alt=\"Open In Colab\"/></a>"
      ]
    },
    {
      "cell_type": "code",
      "execution_count": null,
      "metadata": {
        "colab": {
          "base_uri": "https://localhost:8080/"
        },
        "id": "c2LNArae1sKW",
        "outputId": "22cc0822-2c34-4ea1-e754-6872faddf28a"
      },
      "outputs": [
        {
          "output_type": "stream",
          "name": "stderr",
          "text": [
            "WARNING:playsound:playsound is relying on another python subprocess. Please use `pip install pygobject` if you want playsound to run more efficiently.\n"
          ]
        }
      ],
      "source": [
        "from datetime import datetime\n",
        "from playsound import playsound\n",
        "alarm_time = input(\"Enter the time of alarm to be set:HH:MM:SS\\n\")\n",
        "alarm_hour=alarm_time[0:2]\n",
        "alarm_minute=alarm_time[3:5]\n",
        "alarm_seconds=alarm_time[6:8]\n",
        "alarm_period = alarm_time[9:11].upper()\n",
        "print(\"Setting up alarm..\")\n",
        "while True:\n",
        "    now = datetime.now()\n",
        "    current_hour = now.strftime(\"%I\")\n",
        "    current_minute = now.strftime(\"%M\")\n",
        "    current_seconds = now.strftime(\"%S\")\n",
        "    current_period = now.strftime(\"%p\")\n",
        "    if(alarm_period==current_period):\n",
        "        if(alarm_hour==current_hour):\n",
        "            if(alarm_minute==current_minute):\n",
        "                if(alarm_seconds==current_seconds):\n",
        "                    print(\"Wake Up!\")\n",
        "                    playsound('audio.mp3')\n",
        "                    break"
      ]
    },
    {
      "cell_type": "code",
      "source": [
        "!pip install playsound"
      ],
      "metadata": {
        "colab": {
          "base_uri": "https://localhost:8080/"
        },
        "id": "G8NECa1N2EHV",
        "outputId": "fbdbccb9-fe5f-49bb-f92d-74401e0e6ec1"
      },
      "execution_count": 2,
      "outputs": [
        {
          "output_type": "stream",
          "name": "stdout",
          "text": [
            "Collecting playsound\n",
            "  Downloading playsound-1.3.0.tar.gz (7.7 kB)\n",
            "  Preparing metadata (setup.py) ... \u001b[?25l\u001b[?25hdone\n",
            "Building wheels for collected packages: playsound\n",
            "  Building wheel for playsound (setup.py) ... \u001b[?25l\u001b[?25hdone\n",
            "  Created wheel for playsound: filename=playsound-1.3.0-py3-none-any.whl size=7020 sha256=17f952901dd78097d9def510a5014007b0589d3d280862d1509083da787f48e2\n",
            "  Stored in directory: /root/.cache/pip/wheels/50/98/42/62753a9e1fb97579a0ce2f84f7db4c21c09d03bb2091e6cef4\n",
            "Successfully built playsound\n",
            "Installing collected packages: playsound\n",
            "Successfully installed playsound-1.3.0\n"
          ]
        }
      ]
    }
  ]
}